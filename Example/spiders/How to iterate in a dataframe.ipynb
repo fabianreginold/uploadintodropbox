{
 "cells": [
  {
   "cell_type": "code",
   "execution_count": 1,
   "metadata": {},
   "outputs": [],
   "source": [
    "import pandas as pd \n",
    "   \n",
    "# dictionary of lists \n",
    "dict = {'name':[\"aparna\", \"pankaj\", \"sudhir\", \"Geeku\"], \n",
    "        'degree': [\"MBA\", \"BCA\", \"M.Tech\", \"MBA\"], \n",
    "        'score':[90, 40, 80, 98]} \n",
    "  \n",
    "# creating a dataframe from a dictionary  \n",
    "df = pd.DataFrame(dict) \n",
    "  \n",
    "# iterating over rows using iterrows() function  \n"
   ]
  },
  {
   "cell_type": "code",
   "execution_count": 2,
   "metadata": {},
   "outputs": [
    {
     "data": {
      "text/html": [
       "<div>\n",
       "<style scoped>\n",
       "    .dataframe tbody tr th:only-of-type {\n",
       "        vertical-align: middle;\n",
       "    }\n",
       "\n",
       "    .dataframe tbody tr th {\n",
       "        vertical-align: top;\n",
       "    }\n",
       "\n",
       "    .dataframe thead th {\n",
       "        text-align: right;\n",
       "    }\n",
       "</style>\n",
       "<table border=\"1\" class=\"dataframe\">\n",
       "  <thead>\n",
       "    <tr style=\"text-align: right;\">\n",
       "      <th></th>\n",
       "      <th>name</th>\n",
       "      <th>degree</th>\n",
       "      <th>score</th>\n",
       "    </tr>\n",
       "  </thead>\n",
       "  <tbody>\n",
       "    <tr>\n",
       "      <th>0</th>\n",
       "      <td>aparna</td>\n",
       "      <td>MBA</td>\n",
       "      <td>90</td>\n",
       "    </tr>\n",
       "    <tr>\n",
       "      <th>1</th>\n",
       "      <td>pankaj</td>\n",
       "      <td>BCA</td>\n",
       "      <td>40</td>\n",
       "    </tr>\n",
       "    <tr>\n",
       "      <th>2</th>\n",
       "      <td>sudhir</td>\n",
       "      <td>M.Tech</td>\n",
       "      <td>80</td>\n",
       "    </tr>\n",
       "    <tr>\n",
       "      <th>3</th>\n",
       "      <td>Geeku</td>\n",
       "      <td>MBA</td>\n",
       "      <td>98</td>\n",
       "    </tr>\n",
       "  </tbody>\n",
       "</table>\n",
       "</div>"
      ],
      "text/plain": [
       "     name  degree  score\n",
       "0  aparna     MBA     90\n",
       "1  pankaj     BCA     40\n",
       "2  sudhir  M.Tech     80\n",
       "3   Geeku     MBA     98"
      ]
     },
     "execution_count": 2,
     "metadata": {},
     "output_type": "execute_result"
    }
   ],
   "source": [
    "df.head()"
   ]
  },
  {
   "cell_type": "code",
   "execution_count": 3,
   "metadata": {},
   "outputs": [
    {
     "name": "stdout",
     "output_type": "stream",
     "text": [
      "aparna\n",
      "\n",
      "pankaj\n",
      "\n",
      "sudhir\n",
      "\n",
      "Geeku\n",
      "\n"
     ]
    }
   ],
   "source": [
    "for i, j in df.iterrows(): \n",
    "    print(j['name'])\n",
    "    print() "
   ]
  },
  {
   "cell_type": "code",
   "execution_count": 4,
   "metadata": {},
   "outputs": [],
   "source": [
    "import pandas as pd"
   ]
  },
  {
   "cell_type": "code",
   "execution_count": 5,
   "metadata": {},
   "outputs": [],
   "source": [
    "df=pd.read_excel('/Users/fabianreginold/Downloads/Dr.HaiwangProject/ERM_COVID_companylist_USA_all_1991-2019.xls')"
   ]
  },
  {
   "cell_type": "code",
   "execution_count": 6,
   "metadata": {},
   "outputs": [
    {
     "data": {
      "text/html": [
       "<div>\n",
       "<style scoped>\n",
       "    .dataframe tbody tr th:only-of-type {\n",
       "        vertical-align: middle;\n",
       "    }\n",
       "\n",
       "    .dataframe tbody tr th {\n",
       "        vertical-align: top;\n",
       "    }\n",
       "\n",
       "    .dataframe thead th {\n",
       "        text-align: right;\n",
       "    }\n",
       "</style>\n",
       "<table border=\"1\" class=\"dataframe\">\n",
       "  <thead>\n",
       "    <tr style=\"text-align: right;\">\n",
       "      <th></th>\n",
       "      <th>id</th>\n",
       "      <th>conm</th>\n",
       "      <th>gvkey</th>\n",
       "      <th>ticker</th>\n",
       "      <th>cusip_9digit</th>\n",
       "      <th>cusip</th>\n",
       "      <th>loc</th>\n",
       "    </tr>\n",
       "  </thead>\n",
       "  <tbody>\n",
       "    <tr>\n",
       "      <th>0</th>\n",
       "      <td>1</td>\n",
       "      <td>10X GENOMICS INC</td>\n",
       "      <td>35640</td>\n",
       "      <td>TXG</td>\n",
       "      <td>88025U109</td>\n",
       "      <td>88025U10</td>\n",
       "      <td>USA</td>\n",
       "    </tr>\n",
       "    <tr>\n",
       "      <th>1</th>\n",
       "      <td>2</td>\n",
       "      <td>1347 PROPERTY INS HLDGS INC</td>\n",
       "      <td>19528</td>\n",
       "      <td>PIH</td>\n",
       "      <td>68244P107</td>\n",
       "      <td>68244P10</td>\n",
       "      <td>USA</td>\n",
       "    </tr>\n",
       "    <tr>\n",
       "      <th>2</th>\n",
       "      <td>3</td>\n",
       "      <td>180 CONNECT INC</td>\n",
       "      <td>160475</td>\n",
       "      <td>3CNCT</td>\n",
       "      <td>682343108</td>\n",
       "      <td>68234310</td>\n",
       "      <td>USA</td>\n",
       "    </tr>\n",
       "    <tr>\n",
       "      <th>3</th>\n",
       "      <td>4</td>\n",
       "      <td>180 DEGREE CPTL CORP</td>\n",
       "      <td>139201</td>\n",
       "      <td>TURN</td>\n",
       "      <td>68235B109</td>\n",
       "      <td>68235B10</td>\n",
       "      <td>USA</td>\n",
       "    </tr>\n",
       "    <tr>\n",
       "      <th>4</th>\n",
       "      <td>5</td>\n",
       "      <td>1-800 CONTACTS INC</td>\n",
       "      <td>66425</td>\n",
       "      <td>CTAC.1</td>\n",
       "      <td>681977104</td>\n",
       "      <td>68197710</td>\n",
       "      <td>USA</td>\n",
       "    </tr>\n",
       "  </tbody>\n",
       "</table>\n",
       "</div>"
      ],
      "text/plain": [
       "   id                         conm   gvkey  ticker cusip_9digit     cusip  loc\n",
       "0   1             10X GENOMICS INC   35640     TXG    88025U109  88025U10  USA\n",
       "1   2  1347 PROPERTY INS HLDGS INC   19528     PIH    68244P107  68244P10  USA\n",
       "2   3              180 CONNECT INC  160475   3CNCT    682343108  68234310  USA\n",
       "3   4         180 DEGREE CPTL CORP  139201    TURN    68235B109  68235B10  USA\n",
       "4   5           1-800 CONTACTS INC   66425  CTAC.1    681977104  68197710  USA"
      ]
     },
     "execution_count": 6,
     "metadata": {},
     "output_type": "execute_result"
    }
   ],
   "source": [
    "df.head()"
   ]
  },
  {
   "cell_type": "code",
   "execution_count": 9,
   "metadata": {},
   "outputs": [
    {
     "name": "stdout",
     "output_type": "stream",
     "text": [
      "{'id': 1, 'conm': '10X GENOMICS INC', 'gvkey': 35640, 'ticker': 'TXG', 'cusip_9digit': '88025U109', 'cusip': '88025U10', 'loc': 'USA'}\n",
      "{'id': 2, 'conm': '1347 PROPERTY INS HLDGS INC', 'gvkey': 19528, 'ticker': 'PIH', 'cusip_9digit': '68244P107', 'cusip': '68244P10', 'loc': 'USA'}\n",
      "{'id': 3, 'conm': '180 CONNECT INC', 'gvkey': 160475, 'ticker': '3CNCT', 'cusip_9digit': '682343108', 'cusip': '68234310', 'loc': 'USA'}\n",
      "{'id': 4, 'conm': '180 DEGREE CPTL CORP', 'gvkey': 139201, 'ticker': 'TURN', 'cusip_9digit': '68235B109', 'cusip': '68235B10', 'loc': 'USA'}\n",
      "{'id': 5, 'conm': '1-800 CONTACTS INC', 'gvkey': 66425, 'ticker': 'CTAC.1', 'cusip_9digit': '681977104', 'cusip': '68197710', 'loc': 'USA'}\n",
      "{'id': 6, 'conm': '1-800-ATTORNEY INC', 'gvkey': 62884, 'ticker': 'ATTY', 'cusip_9digit': '68231A204', 'cusip': '68231A20', 'loc': 'USA'}\n",
      "{'id': 7, 'conm': '1-800-FLOWERS.COM', 'gvkey': 122519, 'ticker': 'FLWS', 'cusip_9digit': '68243Q106', 'cusip': '68243Q10', 'loc': 'USA'}\n",
      "{'id': 8, 'conm': '1847 GOEDEKER INC -REDH', 'gvkey': 36399, 'ticker': 'GOED', 'cusip_9digit': '38399M936', 'cusip': '38399M93', 'loc': 'USA'}\n",
      "{'id': 9, 'conm': '1895 BANCORP OF WISCONSN INC', 'gvkey': 34618, 'ticker': 'BCOW', 'cusip_9digit': '28252W105', 'cusip': '28252W10', 'loc': 'USA'}\n",
      "{'id': 10, 'conm': '1LIFE HEALTHCARE INC', 'gvkey': 36025, 'ticker': 'ONEM', 'cusip_9digit': '68269G107', 'cusip': '68269G10', 'loc': 'USA'}\n"
     ]
    }
   ],
   "source": [
    "mydict={}\n",
    "for i,url in df.iterrows():\n",
    "    if(i==10):\n",
    "        break\n",
    "    \n",
    "    mydict={'id':url['id'],'conm':url['conm'],'gvkey':url['gvkey'],'ticker':url['ticker'],'cusip_9digit':url['cusip_9digit'],'cusip':url['cusip'],'loc':url['loc']}\n",
    "    \n",
    "    \n",
    "    \n",
    "    print(mydict)\n",
    "    #print(url['id'],url['conm'],url['gvkey'],url['ticker'],url['cusip_9digit'],url['cusip'],url['loc'])"
   ]
  },
  {
   "cell_type": "code",
   "execution_count": 7,
   "metadata": {},
   "outputs": [
    {
     "ename": "SyntaxError",
     "evalue": "'yield' outside function (<ipython-input-7-abed3a1b13ae>, line 3)",
     "output_type": "error",
     "traceback": [
      "\u001b[0;36m  File \u001b[0;32m\"<ipython-input-7-abed3a1b13ae>\"\u001b[0;36m, line \u001b[0;32m3\u001b[0m\n\u001b[0;31m    yield scrapy.requests('https://www.sec.gov/Archives/edgar/data/1404123/000156218020006387/0001562180-20-006387.txt')\u001b[0m\n\u001b[0m    ^\u001b[0m\n\u001b[0;31mSyntaxError\u001b[0m\u001b[0;31m:\u001b[0m 'yield' outside function\n"
     ]
    }
   ],
   "source": [
    "import requests\n",
    "import scrapy\n",
    "requests('https://www.sec.gov/Archives/edgar/data/1404123/000156218020006387/0001562180-20-006387.txt')\n",
    "\n",
    "'''response = urllib2.urlopen('')\n",
    "data = response.read()\n",
    "\n",
    "# Write data to file\n",
    "filename = \"test.txt\"\n",
    "file_ = open(filename, 'w')\n",
    "file_.write(data)\n",
    "file_.close()'''"
   ]
  },
  {
   "cell_type": "code",
   "execution_count": 10,
   "metadata": {},
   "outputs": [],
   "source": [
    "import requests\n"
   ]
  },
  {
   "cell_type": "code",
   "execution_count": 11,
   "metadata": {},
   "outputs": [],
   "source": [
    "data=requests.get('https://www.sec.gov/Archives/edgar/data/1404123/000156218020006387/0001562180-20-006387.txt')"
   ]
  },
  {
   "cell_type": "code",
   "execution_count": 12,
   "metadata": {},
   "outputs": [
    {
     "data": {
      "text/plain": [
       "<Response [200]>"
      ]
     },
     "execution_count": 12,
     "metadata": {},
     "output_type": "execute_result"
    }
   ],
   "source": [
    "data"
   ]
  },
  {
   "cell_type": "code",
   "execution_count": 17,
   "metadata": {},
   "outputs": [
    {
     "ename": "FileNotFoundError",
     "evalue": "[Errno 2] No such file or directory: '/Users/fabianreginold/Downloads/companies/orcl/dummyfile.txt'",
     "output_type": "error",
     "traceback": [
      "\u001b[0;31m---------------------------------------------------------------------------\u001b[0m",
      "\u001b[0;31mFileNotFoundError\u001b[0m                         Traceback (most recent call last)",
      "\u001b[0;32m<ipython-input-17-211276c3cc00>\u001b[0m in \u001b[0;36m<module>\u001b[0;34m\u001b[0m\n\u001b[0;32m----> 1\u001b[0;31m \u001b[0;32mwith\u001b[0m \u001b[0mopen\u001b[0m\u001b[0;34m(\u001b[0m\u001b[0;34m'/Users/fabianreginold/Downloads/companies/orcl/dummyfile.txt'\u001b[0m\u001b[0;34m,\u001b[0m\u001b[0;34m'wb'\u001b[0m\u001b[0;34m)\u001b[0m \u001b[0;32mas\u001b[0m \u001b[0mfi\u001b[0m\u001b[0;34m:\u001b[0m\u001b[0;34m\u001b[0m\u001b[0;34m\u001b[0m\u001b[0m\n\u001b[0m\u001b[1;32m      2\u001b[0m     \u001b[0mfi\u001b[0m\u001b[0;34m.\u001b[0m\u001b[0mwrite\u001b[0m\u001b[0;34m(\u001b[0m\u001b[0mdata\u001b[0m\u001b[0;34m.\u001b[0m\u001b[0mcontent\u001b[0m\u001b[0;34m)\u001b[0m\u001b[0;34m\u001b[0m\u001b[0;34m\u001b[0m\u001b[0m\n",
      "\u001b[0;31mFileNotFoundError\u001b[0m: [Errno 2] No such file or directory: '/Users/fabianreginold/Downloads/companies/orcl/dummyfile.txt'"
     ]
    }
   ],
   "source": [
    "with open('/Users/fabianreginold/Downloads/companies/orcl/dummyfile.txt','wb') as fi:\n",
    "    fi.write(data.content)"
   ]
  },
  {
   "cell_type": "code",
   "execution_count": 14,
   "metadata": {},
   "outputs": [
    {
     "data": {
      "text/plain": [
       "b'<SEC-DOCUMENT>0001562180-20-006387.txt : 20201019\\n<SEC-HEADER>0001562180-20-006387.hdr.sgml : 20201019\\n<ACCEPTANCE-DATETIME>20201019185435\\nACCESSION NUMBER:\\t\\t0001562180-20-006387\\nCONFORMED SUBMISSION TYPE:\\t4\\nPUBLIC DOCUMENT COUNT:\\t\\t1\\nCONFORMED PERIOD OF REPORT:\\t20201015\\nFILED AS OF DATE:\\t\\t20201019\\nDATE AS OF CHANGE:\\t\\t20201019\\n\\nREPORTING-OWNER:\\t\\n\\n\\tOWNER DATA:\\t\\n\\t\\tCOMPANY CONFORMED NAME:\\t\\t\\tAuvil Paul R. III\\n\\t\\tCENTRAL INDEX KEY:\\t\\t\\t0001410972\\n\\n\\tFILING VALUES:\\n\\t\\tFORM TYPE:\\t\\t4\\n\\t\\tSEC ACT:\\t\\t1934 Act\\n\\t\\tSEC FILE NUMBER:\\t001-39203\\n\\t\\tFILM NUMBER:\\t\\t201247066\\n\\n\\tMAIL ADDRESS:\\t\\n\\t\\tSTREET 1:\\t\\tC/O PROOFPOINT, INC.\\n\\t\\tSTREET 2:\\t\\t892 ROSS DRIVE\\n\\t\\tCITY:\\t\\t\\tSUNNYVALE\\n\\t\\tSTATE:\\t\\t\\tCA\\n\\t\\tZIP:\\t\\t\\t94089\\n\\nISSUER:\\t\\t\\n\\n\\tCOMPANY DATA:\\t\\n\\t\\tCOMPANY CONFORMED NAME:\\t\\t\\t1Life Healthcare Inc\\n\\t\\tCENTRAL INDEX KEY:\\t\\t\\t0001404123\\n\\t\\tSTANDARD INDUSTRIAL CLASSIFICATION:\\tSERVICES-OFFICES & CLINICS OF DOCTORS OF MEDICINE [8011]\\n\\t\\tIRS NUMBER:\\t\\t\\t\\t760707204\\n\\t\\tSTATE OF INCORPORATION:\\t\\t\\tDE\\n\\t\\tFISCAL YEAR END:\\t\\t\\t1231\\n\\n\\tBUSINESS ADDRESS:\\t\\n\\t\\tSTREET 1:\\t\\tONE EMBARCADERO CENTER, SUITE 1900\\n\\t\\tCITY:\\t\\t\\tSan Francisco\\n\\t\\tSTATE:\\t\\t\\tCA\\n\\t\\tZIP:\\t\\t\\t94111\\n\\t\\tBUSINESS PHONE:\\t\\t(415) 814-0927\\n\\n\\tMAIL ADDRESS:\\t\\n\\t\\tSTREET 1:\\t\\tONE EMBARCADERO CENTER, SUITE 1900\\n\\t\\tCITY:\\t\\t\\tSan Francisco\\n\\t\\tSTATE:\\t\\t\\tCA\\n\\t\\tZIP:\\t\\t\\t94111\\n\\n\\tFORMER COMPANY:\\t\\n\\t\\tFORMER CONFORMED NAME:\\t1life Healthcare Inc\\n\\t\\tDATE OF NAME CHANGE:\\t20070621\\n</SEC-HEADER>\\n<DOCUMENT>\\n<TYPE>4\\n<SEQUENCE>1\\n<FILENAME>primarydocument.xml\\n<DESCRIPTION>PRIMARY DOCUMENT\\n<TEXT>\\n<XML>\\n<?xml version=\"1.0\"?>\\n<ownershipDocument>\\n\\n    <schemaVersion>X0306</schemaVersion>\\n\\n    <documentType>4</documentType>\\n\\n    <periodOfReport>2020-10-15</periodOfReport>\\n\\n    <notSubjectToSection16>false</notSubjectToSection16>\\n\\n    <issuer>\\n        <issuerCik>0001404123</issuerCik>\\n        <issuerName>1Life Healthcare Inc</issuerName>\\n        <issuerTradingSymbol>ONEM</issuerTradingSymbol>\\n    </issuer>\\n\\n    <reportingOwner>\\n        <reportingOwnerId>\\n            <rptOwnerCik>0001410972</rptOwnerCik>\\n            <rptOwnerName>Auvil Paul R. III</rptOwnerName>\\n        </reportingOwnerId>\\n        <reportingOwnerAddress>\\n            <rptOwnerStreet1>C/O 1LIFE HEALTHCARE, INC.</rptOwnerStreet1>\\n            <rptOwnerStreet2>ONE EMBARCADERO CENTER, SUITE 1900</rptOwnerStreet2>\\n            <rptOwnerCity>SAN FRANCISCO</rptOwnerCity>\\n            <rptOwnerState>CA</rptOwnerState>\\n            <rptOwnerZipCode>94111</rptOwnerZipCode>\\n            <rptOwnerStateDescription></rptOwnerStateDescription>\\n        </reportingOwnerAddress>\\n        <reportingOwnerRelationship>\\n            <isDirector>true</isDirector>\\n            <isOfficer>false</isOfficer>\\n            <isTenPercentOwner>false</isTenPercentOwner>\\n            <isOther>false</isOther>\\n            <officerTitle></officerTitle>\\n            <otherText></otherText>\\n        </reportingOwnerRelationship>\\n    </reportingOwner>\\n\\n    <nonDerivativeTable></nonDerivativeTable>\\n\\n    <derivativeTable>\\n        <derivativeTransaction>\\n            <securityTitle>\\n                <value>Stock Option (Right to Buy)</value>\\n            </securityTitle>\\n            <conversionOrExercisePrice>\\n                <value>30.48</value>\\n            </conversionOrExercisePrice>\\n            <transactionDate>\\n                <value>2020-10-15</value>\\n            </transactionDate>\\n            <deemedExecutionDate></deemedExecutionDate>\\n            <transactionCoding>\\n                <transactionFormType>4</transactionFormType>\\n                <transactionCode>A</transactionCode>\\n                <equitySwapInvolved>false</equitySwapInvolved>\\n            </transactionCoding>\\n            <transactionTimeliness></transactionTimeliness>\\n            <transactionAmounts>\\n                <transactionShares>\\n                    <value>1014.00</value>\\n                </transactionShares>\\n                <transactionPricePerShare>\\n                    <value>0.00</value>\\n                </transactionPricePerShare>\\n                <transactionAcquiredDisposedCode>\\n                    <value>A</value>\\n                </transactionAcquiredDisposedCode>\\n            </transactionAmounts>\\n            <exerciseDate>\\n                <value>2020-10-15</value>\\n            </exerciseDate>\\n            <expirationDate>\\n                <value>2030-10-14</value>\\n            </expirationDate>\\n            <underlyingSecurity>\\n                <underlyingSecurityTitle>\\n                    <value>Common Stock</value>\\n                </underlyingSecurityTitle>\\n                <underlyingSecurityShares>\\n                    <value>1014.00</value>\\n                </underlyingSecurityShares>\\n            </underlyingSecurity>\\n            <postTransactionAmounts>\\n                <sharesOwnedFollowingTransaction>\\n                    <value>1014.00</value>\\n                </sharesOwnedFollowingTransaction>\\n            </postTransactionAmounts>\\n            <ownershipNature>\\n                <directOrIndirectOwnership>\\n                    <value>D</value>\\n                </directOrIndirectOwnership>\\n            </ownershipNature>\\n        </derivativeTransaction>\\n    </derivativeTable>\\n\\n    <footnotes></footnotes>\\n\\n    <remarks></remarks>\\n\\n    <ownerSignature>\\n        <signatureName>/s/ Matthew B. Hemington, Attorney-in-Fact for Paul R. Auvil</signatureName>\\n        <signatureDate>2020-10-19</signatureDate>\\n    </ownerSignature>\\n</ownershipDocument>\\n</XML>\\n</TEXT>\\n</DOCUMENT>\\n</SEC-DOCUMENT>\\n'"
      ]
     },
     "execution_count": 14,
     "metadata": {},
     "output_type": "execute_result"
    }
   ],
   "source": [
    "data.content"
   ]
  },
  {
   "cell_type": "code",
   "execution_count": null,
   "metadata": {},
   "outputs": [],
   "source": []
  }
 ],
 "metadata": {
  "kernelspec": {
   "display_name": "Python 3",
   "language": "python",
   "name": "python3"
  },
  "language_info": {
   "codemirror_mode": {
    "name": "ipython",
    "version": 3
   },
   "file_extension": ".py",
   "mimetype": "text/x-python",
   "name": "python",
   "nbconvert_exporter": "python",
   "pygments_lexer": "ipython3",
   "version": "3.8.3"
  }
 },
 "nbformat": 4,
 "nbformat_minor": 4
}
